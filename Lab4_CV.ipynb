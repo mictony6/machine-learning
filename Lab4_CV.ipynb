{
  "nbformat": 4,
  "nbformat_minor": 0,
  "metadata": {
    "colab": {
      "provenance": [],
      "include_colab_link": true
    },
    "kernelspec": {
      "name": "python3",
      "display_name": "Python 3"
    },
    "language_info": {
      "name": "python"
    }
  },
  "cells": [
    {
      "cell_type": "markdown",
      "metadata": {
        "id": "view-in-github",
        "colab_type": "text"
      },
      "source": [
        "<a href=\"https://colab.research.google.com/github/mictony6/machine-learning/blob/main/Lab4_CV.ipynb\" target=\"_parent\"><img src=\"https://colab.research.google.com/assets/colab-badge.svg\" alt=\"Open In Colab\"/></a>"
      ]
    },
    {
      "cell_type": "code",
      "execution_count": null,
      "metadata": {
        "id": "AiMz40w8uci7"
      },
      "outputs": [],
      "source": [
        "import cv2\n",
        "from matplotlib import pyplot as plt\n",
        "import imutils\n",
        "\n"
      ]
    },
    {
      "cell_type": "code",
      "source": [
        "def load_and_preprocess_image(path):\n",
        "   image = cv2.imread(path)\n",
        "   image_gray = cv2.cvtColor(image, cv2.COLOR_BGR2GRAY)  # Convert to grayscale\n",
        "   image_resized = cv2.resize(image_gray, (500, 500))\n",
        "   image_blurred = cv2.GaussianBlur(image_resized, (7, 7), 0)\n",
        "   return image_blurred\n",
        "\n",
        "def crop_image(image, y_start, y_end, x_start, x_end):\n",
        "   return image[y_start:y_end, x_start:x_end]\n",
        "\n",
        "def apply_thresholding(image, threshold_value=50):\n",
        "   _, thresholded_image = cv2.threshold(image, threshold_value, 255, cv2.THRESH_BINARY_INV)\n",
        "   return thresholded_image\n",
        "\n",
        "def apply_opening_operation(image, kernel_size=(5, 5)):\n",
        "   kernel = cv2.getStructuringElement(cv2.MORPH_RECT, kernel_size)\n",
        "   opened_image = cv2.morphologyEx(image, cv2.MORPH_OPEN, kernel)\n",
        "   return opened_image\n",
        "\n",
        "def find_largest_contour(image):\n",
        "   contours = cv2.findContours(image.copy(), cv2.RETR_EXTERNAL, cv2.CHAIN_APPROX_SIMPLE)\n",
        "   contours = imutils.grab_contours(contours)\n",
        "\n",
        "   areas = [cv2.contourArea(contour) for contour in contours]\n",
        "   sorted_contours = sorted(zip(contours, areas), key=lambda a: a[1], reverse=True)\n",
        "   largest_contour = sorted_contours[0][0]\n",
        "   return largest_contour\n",
        "\n",
        "def main():\n",
        "   image_path = 'lab04/data/data-lab04/100mL/IMG_20240214_101231.jpg'\n",
        "   image = load_and_preprocess_image(image_path)\n",
        "\n",
        "   cropped_image = crop_image(image, 10, 250, 200, 360)\n",
        "   thresholded_image = apply_thresholding(cropped_image)\n",
        "   opened_image = apply_opening_operation(thresholded_image)\n",
        "\n",
        "   largest_contour = find_largest_contour(opened_image)\n",
        "\n",
        "   fig, axes = plt.subplots(2, 2)\n",
        "\n",
        "   axes[0, 0].imshow(image, cmap='gray')\n",
        "   axes[0, 0].set_title('Original Image')\n",
        "   axes[0, 1].imshow(cropped_image, cmap='gray')\n",
        "   axes[0, 1].set_title('Cropped Image')\n",
        "   axes[1, 0].imshow(thresholded_image, cmap='gray')\n",
        "   axes[1, 0].set_title('Thresholded Image')\n",
        "   axes[1, 1].imshow(opened_image, cmap='gray')\n",
        "   axes[1, 1].set_title('Opened Image')\n",
        "\n",
        "   plt.tight_layout()\n",
        "\n",
        "   plt.show()\n",
        "   print(\"Number of pixels in the largest contour:\", cv2.contourArea(largest_contour))\n",
        "   print(\"again?\")\n",
        "\n",
        "\n"
      ],
      "metadata": {
        "id": "361O87kSupkw"
      },
      "execution_count": null,
      "outputs": []
    },
    {
      "cell_type": "code",
      "source": [
        "main()"
      ],
      "metadata": {
        "id": "lELrYcP3usrH"
      },
      "execution_count": null,
      "outputs": []
    },
    {
      "cell_type": "markdown",
      "source": [
        "can u see this??"
      ],
      "metadata": {
        "id": "C3vJv57Pwevx"
      }
    },
    {
      "cell_type": "markdown",
      "source": [
        "helooooo???"
      ],
      "metadata": {
        "id": "l04CEpUF2Ddj"
      }
    }
  ]
}